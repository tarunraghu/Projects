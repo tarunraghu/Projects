{
 "cells": [
  {
   "cell_type": "code",
   "execution_count": 2,
   "metadata": {},
   "outputs": [],
   "source": [
    "# HEALTHCARE PROJECT"
   ]
  },
  {
   "cell_type": "code",
   "execution_count": 3,
   "metadata": {},
   "outputs": [],
   "source": [
    "#!pip install pyspark"
   ]
  },
  {
   "cell_type": "code",
   "execution_count": 4,
   "metadata": {},
   "outputs": [
    {
     "name": "stdout",
     "output_type": "stream",
     "text": [
      "+--------------------+--------+----------+----------+---------------------+-------------------+-------------------+\n",
      "|         description|  code|1|payer_name| plan_name|standard_charge|gross|standard_charge|max|standard_charge|min|\n",
      "+--------------------+--------+----------+----------+---------------------+-------------------+-------------------+\n",
      "|polidocanoL 1 % (...|63600031|     Aetna|Commercial|                120.0|               90.0|               40.8|\n",
      "|EPINEPHrine 0.1 m...|63600001|     Aetna|Commercial|                35.44|              26.58|               12.4|\n",
      "|EPINEPHrine 0.1 m...|63600001|     Aetna|Commercial|                 63.1|              47.32|              22.08|\n",
      "|EPINEPHrine 0.1 m...|63600001|     Aetna|Commercial|                50.02|              37.52|              17.51|\n",
      "|ibutilide fumarat...|63600031|     Aetna|Commercial|              1342.35|            1006.76|             180.73|\n",
      "|ibutilide fumarat...|63600031|     Aetna|Commercial|              1646.55|            1234.91|             180.73|\n",
      "|methylergonovine ...|63600001|     Aetna|Commercial|               179.52|             134.64|              61.04|\n",
      "|methylergonovine ...|63600001|     Aetna|Commercial|               179.52|             134.64|              61.04|\n",
      "|methylergonovine ...|63600001|     Aetna|Commercial|               118.56|              88.92|              40.31|\n",
      "|methylergonovine ...|63600001|     Aetna|Commercial|               118.56|              88.92|              40.31|\n",
      "|ROPivacaine (PF) ...|63600001|     Aetna|Commercial|               935.55|             701.66|             318.09|\n",
      "|ROPivacaine (PF) ...|63600001|     Aetna|Commercial|                454.5|             340.88|             154.53|\n",
      "|HYDROmorphone 0.2...|63600001|     Aetna|Commercial|                 69.0|              51.75|              23.46|\n",
      "|perflutren protei...|25500001|     Aetna|Commercial|                631.8|             505.44|             221.13|\n",
      "|cosyntropin 0.25 ...|63601051|     Aetna|Commercial|               479.61|             359.71|             163.07|\n",
      "|cosyntropin 0.25 ...|63601051|     Aetna|Commercial|                360.9|             270.68|             122.71|\n",
      "|palonosetron 0.25...|63600001|     Aetna|Commercial|                900.0|              675.0|              306.0|\n",
      "|palonosetron 0.25...|63600001|     Aetna|Commercial|                150.0|              112.5|               51.0|\n",
      "|palonosetron 0.25...|63600001|     Aetna|Commercial|                240.0|              180.0|               81.6|\n",
      "|buprenorphine HCL...|63600001|     Aetna|Commercial|                91.02|              68.26|              30.95|\n",
      "+--------------------+--------+----------+----------+---------------------+-------------------+-------------------+\n",
      "only showing top 20 rows\n",
      "\n"
     ]
    }
   ],
   "source": [
    "from pyspark.sql import SparkSession\n",
    "from pyspark.sql.functions import lit\n",
    "\n",
    "# Initialize a Spark session\n",
    "spark = SparkSession.builder \\\n",
    "    .appName(\"BaylorScott_Irving Data Processing\") \\\n",
    "    .getOrCreate()\n",
    "\n",
    "# Define the file path\n",
    "file_path = r'C:\\Users\\tarun\\Documents\\Semester 4\\Analytics Practicum\\POC\\BaylorScott_Irving.csv'\n",
    "\n",
    "# Load the CSV file with header\n",
    "data_df = spark.read.format(\"csv\") \\\n",
    "    .option(\"header\", \"true\") \\\n",
    "    .option(\"inferSchema\", \"true\") \\\n",
    "    .load(file_path)\n",
    "\n",
    "# Select the specified columns\n",
    "columns_to_include = ['description', 'code|1', 'payer_name', 'plan_name', 'standard_charge|gross', 'standard_charge|max', 'standard_charge|min']\n",
    "df_subset = data_df.select(*columns_to_include)\n",
    "\n",
    "# Show the first few rows of the filtered DataFrame\n",
    "df_subset.show()"
   ]
  },
  {
   "cell_type": "code",
   "execution_count": 5,
   "metadata": {},
   "outputs": [
    {
     "name": "stdout",
     "output_type": "stream",
     "text": [
      "+--------------------+------------+------------------+--------------+----------------------+--------------------+--------------------+\n",
      "| billing_description|billing_code|insurance_provider|insurance_plan|gross_standard_charges|max_standard_charges|min_standard_charges|\n",
      "+--------------------+------------+------------------+--------------+----------------------+--------------------+--------------------+\n",
      "|polidocanoL 1 % (...|    63600031|             Aetna|    Commercial|                 120.0|                90.0|                40.8|\n",
      "|EPINEPHrine 0.1 m...|    63600001|             Aetna|    Commercial|                 35.44|               26.58|                12.4|\n",
      "|EPINEPHrine 0.1 m...|    63600001|             Aetna|    Commercial|                  63.1|               47.32|               22.08|\n",
      "|EPINEPHrine 0.1 m...|    63600001|             Aetna|    Commercial|                 50.02|               37.52|               17.51|\n",
      "|ibutilide fumarat...|    63600031|             Aetna|    Commercial|               1342.35|             1006.76|              180.73|\n",
      "|ibutilide fumarat...|    63600031|             Aetna|    Commercial|               1646.55|             1234.91|              180.73|\n",
      "|methylergonovine ...|    63600001|             Aetna|    Commercial|                179.52|              134.64|               61.04|\n",
      "|methylergonovine ...|    63600001|             Aetna|    Commercial|                179.52|              134.64|               61.04|\n",
      "|methylergonovine ...|    63600001|             Aetna|    Commercial|                118.56|               88.92|               40.31|\n",
      "|methylergonovine ...|    63600001|             Aetna|    Commercial|                118.56|               88.92|               40.31|\n",
      "|ROPivacaine (PF) ...|    63600001|             Aetna|    Commercial|                935.55|              701.66|              318.09|\n",
      "|ROPivacaine (PF) ...|    63600001|             Aetna|    Commercial|                 454.5|              340.88|              154.53|\n",
      "|HYDROmorphone 0.2...|    63600001|             Aetna|    Commercial|                  69.0|               51.75|               23.46|\n",
      "|perflutren protei...|    25500001|             Aetna|    Commercial|                 631.8|              505.44|              221.13|\n",
      "|cosyntropin 0.25 ...|    63601051|             Aetna|    Commercial|                479.61|              359.71|              163.07|\n",
      "|cosyntropin 0.25 ...|    63601051|             Aetna|    Commercial|                 360.9|              270.68|              122.71|\n",
      "|palonosetron 0.25...|    63600001|             Aetna|    Commercial|                 900.0|               675.0|               306.0|\n",
      "|palonosetron 0.25...|    63600001|             Aetna|    Commercial|                 150.0|               112.5|                51.0|\n",
      "|palonosetron 0.25...|    63600001|             Aetna|    Commercial|                 240.0|               180.0|                81.6|\n",
      "|buprenorphine HCL...|    63600001|             Aetna|    Commercial|                 91.02|               68.26|               30.95|\n",
      "+--------------------+------------+------------------+--------------+----------------------+--------------------+--------------------+\n",
      "only showing top 20 rows\n",
      "\n"
     ]
    }
   ],
   "source": [
    "# Rename the columns\n",
    "df_renamed = df_subset.withColumnRenamed('description', 'billing_description') \\\n",
    "                      .withColumnRenamed('code|1', 'billing_code') \\\n",
    "                      .withColumnRenamed('payer_name', 'insurance_provider') \\\n",
    "                      .withColumnRenamed('plan_name', 'insurance_plan') \\\n",
    "                      .withColumnRenamed('standard_charge|gross', 'gross_standard_charges') \\\n",
    "                      .withColumnRenamed('standard_charge|max', 'max_standard_charges') \\\n",
    "                      .withColumnRenamed('standard_charge|min', 'min_standard_charges')\n",
    "\n",
    "# Show the first few rows of the renamed DataFrame\n",
    "df_renamed.show()"
   ]
  },
  {
   "cell_type": "code",
   "execution_count": 6,
   "metadata": {},
   "outputs": [
    {
     "name": "stdout",
     "output_type": "stream",
     "text": [
      "+--------------------+------------+------------------+--------------+----------------------+--------------------+--------------------+------------------+\n",
      "| billing_description|billing_code|insurance_provider|insurance_plan|gross_standard_charges|max_standard_charges|min_standard_charges|     hospital_name|\n",
      "+--------------------+------------+------------------+--------------+----------------------+--------------------+--------------------+------------------+\n",
      "|polidocanoL 1 % (...|    63600031|             Aetna|    Commercial|                 120.0|                90.0|                40.8|BaylorScott_Irving|\n",
      "|EPINEPHrine 0.1 m...|    63600001|             Aetna|    Commercial|                 35.44|               26.58|                12.4|BaylorScott_Irving|\n",
      "|EPINEPHrine 0.1 m...|    63600001|             Aetna|    Commercial|                  63.1|               47.32|               22.08|BaylorScott_Irving|\n",
      "|EPINEPHrine 0.1 m...|    63600001|             Aetna|    Commercial|                 50.02|               37.52|               17.51|BaylorScott_Irving|\n",
      "|ibutilide fumarat...|    63600031|             Aetna|    Commercial|               1342.35|             1006.76|              180.73|BaylorScott_Irving|\n",
      "|ibutilide fumarat...|    63600031|             Aetna|    Commercial|               1646.55|             1234.91|              180.73|BaylorScott_Irving|\n",
      "|methylergonovine ...|    63600001|             Aetna|    Commercial|                179.52|              134.64|               61.04|BaylorScott_Irving|\n",
      "|methylergonovine ...|    63600001|             Aetna|    Commercial|                179.52|              134.64|               61.04|BaylorScott_Irving|\n",
      "|methylergonovine ...|    63600001|             Aetna|    Commercial|                118.56|               88.92|               40.31|BaylorScott_Irving|\n",
      "|methylergonovine ...|    63600001|             Aetna|    Commercial|                118.56|               88.92|               40.31|BaylorScott_Irving|\n",
      "|ROPivacaine (PF) ...|    63600001|             Aetna|    Commercial|                935.55|              701.66|              318.09|BaylorScott_Irving|\n",
      "|ROPivacaine (PF) ...|    63600001|             Aetna|    Commercial|                 454.5|              340.88|              154.53|BaylorScott_Irving|\n",
      "|HYDROmorphone 0.2...|    63600001|             Aetna|    Commercial|                  69.0|               51.75|               23.46|BaylorScott_Irving|\n",
      "|perflutren protei...|    25500001|             Aetna|    Commercial|                 631.8|              505.44|              221.13|BaylorScott_Irving|\n",
      "|cosyntropin 0.25 ...|    63601051|             Aetna|    Commercial|                479.61|              359.71|              163.07|BaylorScott_Irving|\n",
      "|cosyntropin 0.25 ...|    63601051|             Aetna|    Commercial|                 360.9|              270.68|              122.71|BaylorScott_Irving|\n",
      "|palonosetron 0.25...|    63600001|             Aetna|    Commercial|                 900.0|               675.0|               306.0|BaylorScott_Irving|\n",
      "|palonosetron 0.25...|    63600001|             Aetna|    Commercial|                 150.0|               112.5|                51.0|BaylorScott_Irving|\n",
      "|palonosetron 0.25...|    63600001|             Aetna|    Commercial|                 240.0|               180.0|                81.6|BaylorScott_Irving|\n",
      "|buprenorphine HCL...|    63600001|             Aetna|    Commercial|                 91.02|               68.26|               30.95|BaylorScott_Irving|\n",
      "+--------------------+------------+------------------+--------------+----------------------+--------------------+--------------------+------------------+\n",
      "only showing top 20 rows\n",
      "\n"
     ]
    }
   ],
   "source": [
    "# Add a new column \"hospital name\" with value \"UCLA_Resnick\"\n",
    "df_final = df_renamed.withColumn(\"hospital_name\", lit(\"BaylorScott_Irving\"))\n",
    "\n",
    "# Show the first few rows of the final DataFrame\n",
    "df_final.show()"
   ]
  }
 ],
 "metadata": {
  "kernelspec": {
   "display_name": "base",
   "language": "python",
   "name": "python3"
  },
  "language_info": {
   "codemirror_mode": {
    "name": "ipython",
    "version": 3
   },
   "file_extension": ".py",
   "mimetype": "text/x-python",
   "name": "python",
   "nbconvert_exporter": "python",
   "pygments_lexer": "ipython3",
   "version": "3.12.7"
  }
 },
 "nbformat": 4,
 "nbformat_minor": 2
}
