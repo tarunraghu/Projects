{
 "cells": [
  {
   "cell_type": "code",
   "execution_count": 1,
   "metadata": {},
   "outputs": [],
   "source": [
    "# HEALTHCARE PROJECT\n"
   ]
  },
  {
   "cell_type": "code",
   "execution_count": 2,
   "metadata": {},
   "outputs": [],
   "source": [
    "#!pip install pyspark\n"
   ]
  },
  {
   "cell_type": "code",
   "execution_count": 3,
   "metadata": {},
   "outputs": [
    {
     "name": "stdout",
     "output_type": "stream",
     "text": [
      "+--------------------+------+-----------------+--------------------+----------------+-------------------+-------------------+\n",
      "|         description|code|1|       payer_name|           plan_name|estimated_amount|standard_charge|max|standard_charge|min|\n",
      "+--------------------+------+-----------------+--------------------+----------------+-------------------+-------------------+\n",
      "|HEART TRANSPLANT ...|   001|            Aetna|               Aetna|       553176.28|          835367.16|          553176.28|\n",
      "|HEART TRANSPLANT ...|   001|United Healthcare|United Healthcare...|        635848.5|          835367.16|          553176.28|\n",
      "|HEART TRANSPLANT ...|   001|United Healthcare|United Healthcare...|       835367.16|          835367.16|          553176.28|\n",
      "|HEART TRANSPLANT ...|   001|United Healthcare|United Healthcare...|        635848.5|          835367.16|          553176.28|\n",
      "|HEART TRANSPLANT ...|   002|            Aetna|               Aetna|       333274.32|          503286.98|          333274.32|\n",
      "|HEART TRANSPLANT ...|   002|United Healthcare|United Healthcare...|       383082.18|          503286.98|          333274.32|\n",
      "|HEART TRANSPLANT ...|   002|United Healthcare|United Healthcare...|       503286.98|          503286.98|          333274.32|\n",
      "|HEART TRANSPLANT ...|   002|United Healthcare|United Healthcare...|       383082.18|          503286.98|          333274.32|\n",
      "|ECMO OR TRACHEOST...|   003|            Aetna|               Aetna|       384837.16|          581153.49|          384837.16|\n",
      "|ECMO OR TRACHEOST...|   003|United Healthcare|United Healthcare...|       442351.09|          581153.49|          384837.16|\n",
      "|ECMO OR TRACHEOST...|   003|United Healthcare|United Healthcare...|       581153.49|          581153.49|          384837.16|\n",
      "|ECMO OR TRACHEOST...|   003|United Healthcare|United Healthcare...|       442351.09|          581153.49|          384837.16|\n",
      "|TRACHEOSTOMY WITH...|   004|            Aetna|               Aetna|       238466.42|          360114.89|          238466.42|\n",
      "|TRACHEOSTOMY WITH...|   004|United Healthcare|United Healthcare...|       274105.23|          360114.89|          238466.42|\n",
      "|TRACHEOSTOMY WITH...|   004|United Healthcare|United Healthcare...|       360114.89|          360114.89|          238466.42|\n",
      "|TRACHEOSTOMY WITH...|   004|United Healthcare|United Healthcare...|       274105.23|          360114.89|          238466.42|\n",
      "|LIVER TRANSPLANT ...|   005|            Aetna|               Aetna|       227394.95|          343395.55|          227394.95|\n",
      "|LIVER TRANSPLANT ...|   005|United Healthcare|United Healthcare...|       261379.13|          343395.55|          227394.95|\n",
      "|LIVER TRANSPLANT ...|   005|United Healthcare|United Healthcare...|       343395.55|          343395.55|          227394.95|\n",
      "|LIVER TRANSPLANT ...|   005|United Healthcare|United Healthcare...|       261379.13|          343395.55|          227394.95|\n",
      "+--------------------+------+-----------------+--------------------+----------------+-------------------+-------------------+\n",
      "only showing top 20 rows\n",
      "\n",
      "+--------------------+------------+------------------+--------------------+----------------------+--------------------+--------------------+\n",
      "| billing_description|billing_code|insurance_provider|      insurance_plan|gross_standard_charges|max_standard_charges|min_standard_charges|\n",
      "+--------------------+------------+------------------+--------------------+----------------------+--------------------+--------------------+\n",
      "|HEART TRANSPLANT ...|         001|             Aetna|               Aetna|             553176.28|           835367.16|           553176.28|\n",
      "|HEART TRANSPLANT ...|         001| United Healthcare|United Healthcare...|              635848.5|           835367.16|           553176.28|\n",
      "|HEART TRANSPLANT ...|         001| United Healthcare|United Healthcare...|             835367.16|           835367.16|           553176.28|\n",
      "|HEART TRANSPLANT ...|         001| United Healthcare|United Healthcare...|              635848.5|           835367.16|           553176.28|\n",
      "|HEART TRANSPLANT ...|         002|             Aetna|               Aetna|             333274.32|           503286.98|           333274.32|\n",
      "|HEART TRANSPLANT ...|         002| United Healthcare|United Healthcare...|             383082.18|           503286.98|           333274.32|\n",
      "|HEART TRANSPLANT ...|         002| United Healthcare|United Healthcare...|             503286.98|           503286.98|           333274.32|\n",
      "|HEART TRANSPLANT ...|         002| United Healthcare|United Healthcare...|             383082.18|           503286.98|           333274.32|\n",
      "|ECMO OR TRACHEOST...|         003|             Aetna|               Aetna|             384837.16|           581153.49|           384837.16|\n",
      "|ECMO OR TRACHEOST...|         003| United Healthcare|United Healthcare...|             442351.09|           581153.49|           384837.16|\n",
      "|ECMO OR TRACHEOST...|         003| United Healthcare|United Healthcare...|             581153.49|           581153.49|           384837.16|\n",
      "|ECMO OR TRACHEOST...|         003| United Healthcare|United Healthcare...|             442351.09|           581153.49|           384837.16|\n",
      "|TRACHEOSTOMY WITH...|         004|             Aetna|               Aetna|             238466.42|           360114.89|           238466.42|\n",
      "|TRACHEOSTOMY WITH...|         004| United Healthcare|United Healthcare...|             274105.23|           360114.89|           238466.42|\n",
      "|TRACHEOSTOMY WITH...|         004| United Healthcare|United Healthcare...|             360114.89|           360114.89|           238466.42|\n",
      "|TRACHEOSTOMY WITH...|         004| United Healthcare|United Healthcare...|             274105.23|           360114.89|           238466.42|\n",
      "|LIVER TRANSPLANT ...|         005|             Aetna|               Aetna|             227394.95|           343395.55|           227394.95|\n",
      "|LIVER TRANSPLANT ...|         005| United Healthcare|United Healthcare...|             261379.13|           343395.55|           227394.95|\n",
      "|LIVER TRANSPLANT ...|         005| United Healthcare|United Healthcare...|             343395.55|           343395.55|           227394.95|\n",
      "|LIVER TRANSPLANT ...|         005| United Healthcare|United Healthcare...|             261379.13|           343395.55|           227394.95|\n",
      "+--------------------+------------+------------------+--------------------+----------------------+--------------------+--------------------+\n",
      "only showing top 20 rows\n",
      "\n"
     ]
    }
   ],
   "source": [
    "from pyspark.sql import SparkSession\n",
    "from pyspark.sql.functions import lit\n",
    "\n",
    "# Initialize a Spark session\n",
    "spark = SparkSession.builder \\\n",
    "    .appName(\"USMD_Arlington\") \\\n",
    "    .getOrCreate()\n",
    "\n",
    "# Define the file path\n",
    "file_path = r'C:\\Users\\tarun\\Documents\\Semester 4\\Analytics Practicum\\POC\\USMD_Arlington.csv'\n",
    "\n",
    "# Load the CSV file with header\n",
    "data_df = spark.read.format(\"csv\") \\\n",
    "    .option(\"header\", \"true\") \\\n",
    "    .option(\"inferSchema\", \"true\") \\\n",
    "    .load(file_path)\n",
    "\n",
    "# Select the specified columns\n",
    "columns_to_include = ['description', 'code|1', 'payer_name', 'plan_name', 'estimated_amount', 'standard_charge|max', 'standard_charge|min']\n",
    "df_subset = data_df.select(*columns_to_include)\n",
    "\n",
    "# Show the first few rows of the filtered DataFrame\n",
    "df_subset.show()\n",
    "\n",
    "# Rename the columns\n",
    "df_renamed = df_subset.withColumnRenamed('description', 'billing_description') \\\n",
    "                      .withColumnRenamed('code|1', 'billing_code') \\\n",
    "                      .withColumnRenamed('payer_name', 'insurance_provider') \\\n",
    "                      .withColumnRenamed('plan_name', 'insurance_plan') \\\n",
    "                      .withColumnRenamed('estimated_amount', 'gross_standard_charges') \\\n",
    "                      .withColumnRenamed('standard_charge|max', 'max_standard_charges') \\\n",
    "                      .withColumnRenamed('standard_charge|min', 'min_standard_charges')\n",
    "\n",
    "# Show the first few rows of the renamed DataFrame\n",
    "df_renamed.show()\n"
   ]
  },
  {
   "cell_type": "code",
   "execution_count": 4,
   "metadata": {},
   "outputs": [
    {
     "name": "stdout",
     "output_type": "stream",
     "text": [
      "+--------------------+------------+------------------+--------------------+----------------------+--------------------+--------------------+--------------+\n",
      "| billing_description|billing_code|insurance_provider|      insurance_plan|gross_standard_charges|max_standard_charges|min_standard_charges| hospital_name|\n",
      "+--------------------+------------+------------------+--------------------+----------------------+--------------------+--------------------+--------------+\n",
      "|HEART TRANSPLANT ...|         001|             Aetna|               Aetna|             553176.28|           835367.16|           553176.28|USMD_Arlington|\n",
      "|HEART TRANSPLANT ...|         001| United Healthcare|United Healthcare...|              635848.5|           835367.16|           553176.28|USMD_Arlington|\n",
      "|HEART TRANSPLANT ...|         001| United Healthcare|United Healthcare...|             835367.16|           835367.16|           553176.28|USMD_Arlington|\n",
      "|HEART TRANSPLANT ...|         001| United Healthcare|United Healthcare...|              635848.5|           835367.16|           553176.28|USMD_Arlington|\n",
      "|HEART TRANSPLANT ...|         002|             Aetna|               Aetna|             333274.32|           503286.98|           333274.32|USMD_Arlington|\n",
      "|HEART TRANSPLANT ...|         002| United Healthcare|United Healthcare...|             383082.18|           503286.98|           333274.32|USMD_Arlington|\n",
      "|HEART TRANSPLANT ...|         002| United Healthcare|United Healthcare...|             503286.98|           503286.98|           333274.32|USMD_Arlington|\n",
      "|HEART TRANSPLANT ...|         002| United Healthcare|United Healthcare...|             383082.18|           503286.98|           333274.32|USMD_Arlington|\n",
      "|ECMO OR TRACHEOST...|         003|             Aetna|               Aetna|             384837.16|           581153.49|           384837.16|USMD_Arlington|\n",
      "|ECMO OR TRACHEOST...|         003| United Healthcare|United Healthcare...|             442351.09|           581153.49|           384837.16|USMD_Arlington|\n",
      "|ECMO OR TRACHEOST...|         003| United Healthcare|United Healthcare...|             581153.49|           581153.49|           384837.16|USMD_Arlington|\n",
      "|ECMO OR TRACHEOST...|         003| United Healthcare|United Healthcare...|             442351.09|           581153.49|           384837.16|USMD_Arlington|\n",
      "|TRACHEOSTOMY WITH...|         004|             Aetna|               Aetna|             238466.42|           360114.89|           238466.42|USMD_Arlington|\n",
      "|TRACHEOSTOMY WITH...|         004| United Healthcare|United Healthcare...|             274105.23|           360114.89|           238466.42|USMD_Arlington|\n",
      "|TRACHEOSTOMY WITH...|         004| United Healthcare|United Healthcare...|             360114.89|           360114.89|           238466.42|USMD_Arlington|\n",
      "|TRACHEOSTOMY WITH...|         004| United Healthcare|United Healthcare...|             274105.23|           360114.89|           238466.42|USMD_Arlington|\n",
      "|LIVER TRANSPLANT ...|         005|             Aetna|               Aetna|             227394.95|           343395.55|           227394.95|USMD_Arlington|\n",
      "|LIVER TRANSPLANT ...|         005| United Healthcare|United Healthcare...|             261379.13|           343395.55|           227394.95|USMD_Arlington|\n",
      "|LIVER TRANSPLANT ...|         005| United Healthcare|United Healthcare...|             343395.55|           343395.55|           227394.95|USMD_Arlington|\n",
      "|LIVER TRANSPLANT ...|         005| United Healthcare|United Healthcare...|             261379.13|           343395.55|           227394.95|USMD_Arlington|\n",
      "+--------------------+------------+------------------+--------------------+----------------------+--------------------+--------------------+--------------+\n",
      "only showing top 20 rows\n",
      "\n"
     ]
    }
   ],
   "source": [
    "# Add a new column \"hospital name\" with value \"UCLA_Resnick\"\n",
    "df_final = df_renamed.withColumn(\"hospital_name\", lit(\"USMD_Arlington\"))\n",
    "\n",
    "# Show the first few rows of the final DataFrame\n",
    "df_final.show()"
   ]
  },
  {
   "cell_type": "code",
   "execution_count": null,
   "metadata": {},
   "outputs": [],
   "source": []
  }
 ],
 "metadata": {
  "kernelspec": {
   "display_name": "base",
   "language": "python",
   "name": "python3"
  },
  "language_info": {
   "codemirror_mode": {
    "name": "ipython",
    "version": 3
   },
   "file_extension": ".py",
   "mimetype": "text/x-python",
   "name": "python",
   "nbconvert_exporter": "python",
   "pygments_lexer": "ipython3",
   "version": "3.12.7"
  }
 },
 "nbformat": 4,
 "nbformat_minor": 2
}
