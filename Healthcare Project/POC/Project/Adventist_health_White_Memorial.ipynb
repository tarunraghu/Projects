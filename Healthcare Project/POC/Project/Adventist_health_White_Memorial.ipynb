{
 "cells": [
  {
   "cell_type": "code",
   "execution_count": null,
   "metadata": {},
   "outputs": [],
   "source": [
    "# HEALTHCARE PROJECT\n"
   ]
  },
  {
   "cell_type": "code",
   "execution_count": null,
   "metadata": {},
   "outputs": [],
   "source": [
    "#!pip install pyspark\n"
   ]
  },
  {
   "cell_type": "code",
   "execution_count": null,
   "metadata": {},
   "outputs": [],
   "source": [
    "from pyspark.sql import SparkSession\n",
    "from pyspark.sql.functions import lit\n",
    "\n",
    "# Initialize a Spark session\n",
    "spark = SparkSession.builder \\\n",
    "    .appName(\"Adventist_health_White_Memorial Data Processing\") \\\n",
    "    .getOrCreate()\n",
    "\n",
    "# Define the file path\n",
    "file_path = r'C:\\Users\\tarun\\Documents\\Semester 4\\Analytics Practicum\\POC\\Adventist_health_White_Memorial.csv'\n",
    "\n",
    "# Load the CSV file with header\n",
    "data_df = spark.read.format(\"csv\") \\\n",
    "    .option(\"header\", \"true\") \\\n",
    "    .option(\"inferSchema\", \"true\") \\\n",
    "    .load(file_path)\n",
    "\n",
    "# Select the specified columns\n",
    "columns_to_include = ['description', 'code|1', 'payer_name', 'plan_name', 'standard_charge|gross', 'standard_charge|max', 'standard_charge|min']\n",
    "df_subset = data_df.select(*columns_to_include)\n",
    "\n",
    "# Show the first few rows of the filtered DataFrame\n",
    "df_subset.show()\n",
    "\n",
    "# Rename the columns\n",
    "df_renamed = df_subset.withColumnRenamed('description', 'billing_description') \\\n",
    "                      .withColumnRenamed('code|1', 'billing_code') \\\n",
    "                      .withColumnRenamed('payer_name', 'insurance_provider') \\\n",
    "                      .withColumnRenamed('plan_name', 'insurance_plan') \\\n",
    "                      .withColumnRenamed('standard_charge|gross', 'gross_standard_charges') \\\n",
    "                      .withColumnRenamed('standard_charge|max', 'max_standard_charges') \\\n",
    "                      .withColumnRenamed('standard_charge|min', 'min_standard_charges')\n",
    "\n",
    "# Show the first few rows of the renamed DataFrame\n",
    "df_renamed.show()\n",
    "\n"
   ]
  },
  {
   "cell_type": "code",
   "execution_count": null,
   "metadata": {},
   "outputs": [],
   "source": [
    "# Add a new column \"hospital name\" with value \"UCLA_Resnick\"\n",
    "df_final = df_renamed.withColumn(\"hospital_name\", lit(\"Adventist_health_White_Memorial\"))\n",
    "\n",
    "# Show the first few rows of the final DataFrame\n",
    "df_final.show()"
   ]
  },
  {
   "cell_type": "code",
   "execution_count": null,
   "metadata": {},
   "outputs": [],
   "source": [
    "\n"
   ]
  }
 ],
 "metadata": {
  "language_info": {
   "codemirror_mode": {
    "name": "ipython",
    "version": 3
   },
   "file_extension": ".py",
   "mimetype": "text/x-python",
   "name": "python",
   "nbconvert_exporter": "python",
   "pygments_lexer": "ipython3",
   "version": 3
  }
 },
 "nbformat": 4,
 "nbformat_minor": 2
}
