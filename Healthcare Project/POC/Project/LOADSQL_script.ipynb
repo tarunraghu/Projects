{
 "cells": [
  {
   "cell_type": "code",
   "execution_count": 1,
   "metadata": {},
   "outputs": [],
   "source": [
    "#!pip install psycopg2"
   ]
  },
  {
   "cell_type": "code",
   "execution_count": null,
   "metadata": {},
   "outputs": [
    {
     "name": "stdout",
     "output_type": "stream",
     "text": [
      "Data copied successfully!\n"
     ]
    },
    {
     "ename": "",
     "evalue": "",
     "output_type": "error",
     "traceback": [
      "\u001b[1;31mThe Kernel crashed while executing code in the current cell or a previous cell. \n",
      "\u001b[1;31mPlease review the code in the cell(s) to identify a possible cause of the failure. \n",
      "\u001b[1;31mClick <a href='https://aka.ms/vscodeJupyterKernelCrash'>here</a> for more info. \n",
      "\u001b[1;31mView Jupyter <a href='command:jupyter.viewOutput'>log</a> for further details."
     ]
    }
   ],
   "source": [
    "import psycopg2\n",
    "import csv\n",
    "\n",
    "# Database connection parameters\n",
    "conn = psycopg2.connect(\n",
    "    dbname=\"healthcarepoc\",\n",
    "    user=\"postgres\",\n",
    "    password=\"Consis10C!\",\n",
    "    host=\"localhost\",\n",
    "    port=\"5432\"\n",
    ")\n",
    "\n",
    "# Path to your CSV file\n",
    "csv_file_path = 'C:/Users/tarun/Documents/Semester 4/Analytics Practicum/POC/Project/merged_data.csv'\n",
    "\n",
    "# Table name\n",
    "table_name = 'billing_data'\n",
    "\n",
    "try:\n",
    "    # Create a cursor object\n",
    "    cursor = conn.cursor()\n",
    "\n",
    "    # Open the CSV file\n",
    "    with open(csv_file_path, 'r') as f:\n",
    "        reader = csv.reader(f, delimiter='\\t')\n",
    "        header = next(reader)  # Skip the header row\n",
    "\n",
    "        for row in reader:\n",
    "            # Replace empty strings with None to handle null values\n",
    "            row = [None if field == '' else field for field in row]\n",
    "            \n",
    "            # Convert numeric fields to None if they are empty strings\n",
    "            for i in range(4, 7):  # Assuming columns 5, 6, and 7 are numeric\n",
    "                if row[i] is None:\n",
    "                    row[i] = None\n",
    "                else:\n",
    "                    try:\n",
    "                        row[i] = float(row[i])\n",
    "                    except ValueError:\n",
    "                        print(f\"Invalid numeric value in row: {row}\")\n",
    "                        raise\n",
    "\n",
    "            try:\n",
    "                cursor.execute(\n",
    "                    f\"INSERT INTO {table_name} VALUES (%s, %s, %s, %s, %s, %s, %s, %s)\",\n",
    "                    row\n",
    "                )\n",
    "            except Exception as row_error:\n",
    "                print(f\"Error with row: {row}\")\n",
    "                print(f\"Row error: {row_error}\")\n",
    "                conn.rollback()\n",
    "                break\n",
    "\n",
    "    # Commit the transaction\n",
    "    conn.commit()\n",
    "\n",
    "    print(\"Data copied successfully!\")\n",
    "\n",
    "except Exception as e:\n",
    "    print(f\"Error: {e}\")\n",
    "    conn.rollback()\n",
    "\n",
    "finally:\n",
    "    # Close the cursor and connection\n",
    "    cursor.close()\n",
    "    conn.close()"
   ]
  }
 ],
 "metadata": {
  "kernelspec": {
   "display_name": "base",
   "language": "python",
   "name": "python3"
  },
  "language_info": {
   "codemirror_mode": {
    "name": "ipython",
    "version": 3
   },
   "file_extension": ".py",
   "mimetype": "text/x-python",
   "name": "python",
   "nbconvert_exporter": "python",
   "pygments_lexer": "ipython3",
   "version": "3.12.7"
  }
 },
 "nbformat": 4,
 "nbformat_minor": 2
}
